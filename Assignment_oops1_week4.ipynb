{
 "cells": [
  {
   "cell_type": "code",
   "execution_count": 11,
   "id": "a59e18cb-8e6e-4cdc-b8fb-25caa35d6af7",
   "metadata": {},
   "outputs": [],
   "source": [
    "\"\"\"Q1. Explain Class and Object with respect to Object-Oriented Programming. Give a suitable example.\n",
    "\n",
    "Answer:1 \n",
    "\n",
    " class :- class is a blueprint or template of object.\n",
    " object :- in simple word object is a instance or variable of class.\n",
    "\n",
    " Example of class.\"\"\"\n",
    "\n",
    "class define():\n",
    "    def access_define(self):\n",
    "        print(\"define successfully\")"
   ]
  },
  {
   "cell_type": "code",
   "execution_count": 12,
   "id": "aaab6ad6-a5a3-429d-9431-75f39792896c",
   "metadata": {},
   "outputs": [],
   "source": [
    "# Example of object."
   ]
  },
  {
   "cell_type": "code",
   "execution_count": 13,
   "id": "0a2d11ca-b096-4227-9111-4f20543db449",
   "metadata": {},
   "outputs": [],
   "source": [
    "object_of_define_class = define()"
   ]
  },
  {
   "cell_type": "code",
   "execution_count": 14,
   "id": "3c35519d-facf-45c1-9382-ad4862950d73",
   "metadata": {},
   "outputs": [
    {
     "name": "stdout",
     "output_type": "stream",
     "text": [
      "define successfully\n"
     ]
    }
   ],
   "source": [
    "object_of_define_class.access_define()"
   ]
  },
  {
   "cell_type": "code",
   "execution_count": null,
   "id": "b5da83a4-616a-4835-8bab-856fe3042422",
   "metadata": {},
   "outputs": [],
   "source": [
    "\"\"\"Q2. Name the four pillars of OOPs.\n",
    "\n",
    "Answer:2    1:-Inheritance.\n",
    "            2:-Polymorpism.\n",
    "            3:-Encapsulation.\n",
    "            4:-Abstraction.  \"\"\""
   ]
  },
  {
   "cell_type": "code",
   "execution_count": 59,
   "id": "5a3a3e84-22f8-40bb-8d6d-a03ce4c02830",
   "metadata": {},
   "outputs": [],
   "source": [
    "\"\"\"Q3. Explain why the __init__() function is used. Give a suitable example.\n",
    "\n",
    "Answer:3\n",
    "\n",
    " __init__ :- The __init__ function is called a constructor, or initializer, and is automatically called when you create a new instance of a class.\n",
    "    \n",
    "Example of  __init__.\"\"\"    \n",
    "    \n",
    "class student:\n",
    "    def __init__(self, name , age):\n",
    "        self.name = name\n",
    "        self.age = age\n",
    "    def dislay_info(self):\n",
    "        print(f\"name: {self.name} , age: {self.age}\")"
   ]
  },
  {
   "cell_type": "code",
   "execution_count": 60,
   "id": "554e45fb-4dfc-4657-8ad9-d3c2ddaa718e",
   "metadata": {},
   "outputs": [],
   "source": [
    "obj_student = student(\"tatheer\" , 21)"
   ]
  },
  {
   "cell_type": "code",
   "execution_count": 61,
   "id": "908d0223-e2dd-4aa3-9441-605f4648c532",
   "metadata": {},
   "outputs": [
    {
     "name": "stdout",
     "output_type": "stream",
     "text": [
      "name: tatheer , age: 21\n"
     ]
    }
   ],
   "source": [
    "obj_student.dislay_info()"
   ]
  },
  {
   "cell_type": "code",
   "execution_count": null,
   "id": "d633e1f3-443f-4430-b05a-9593154a0399",
   "metadata": {},
   "outputs": [],
   "source": [
    "\"\"\"Q4. Why self is used in OOPs?\n",
    "\n",
    "Answer:4    self :- .Because it's bind function or method in class. \n",
    "                    .self is not a reserve keyword we can write anything in place of self.\n",
    "                    .self point class with the help of object. \"\"\""
   ]
  },
  {
   "cell_type": "code",
   "execution_count": 97,
   "id": "b69f12ba-5b74-4b26-ba6b-95ed22c8cb71",
   "metadata": {},
   "outputs": [],
   "source": [
    "\"\"\"Q5. What is inheritance? Give an example for each type of inheritance.\n",
    "\n",
    "Answer:5 \n",
    "\n",
    "Inheritance :- Inheritance allows us to define a class that inherits all the methods and properties from another class.\n",
    "\n",
    "Example of inheritance.\"\"\"\n",
    "\n",
    "class parent:\n",
    "    def father(self):\n",
    "        print(\"parent of child class\")\n",
    "        \n",
    "class child(parent):\n",
    "    def boy(self):\n",
    "        pass       "
   ]
  },
  {
   "cell_type": "code",
   "execution_count": 98,
   "id": "b5022de7-8d76-4480-90ae-7eff55623cd7",
   "metadata": {},
   "outputs": [],
   "source": [
    "obj_child = child()"
   ]
  },
  {
   "cell_type": "code",
   "execution_count": 99,
   "id": "44801aac-0c73-43f9-95b4-be7581070671",
   "metadata": {},
   "outputs": [
    {
     "name": "stdout",
     "output_type": "stream",
     "text": [
      "parent of child class\n"
     ]
    }
   ],
   "source": [
    "obj_child.father()"
   ]
  }
 ],
 "metadata": {
  "kernelspec": {
   "display_name": "Python 3 (ipykernel)",
   "language": "python",
   "name": "python3"
  },
  "language_info": {
   "codemirror_mode": {
    "name": "ipython",
    "version": 3
   },
   "file_extension": ".py",
   "mimetype": "text/x-python",
   "name": "python",
   "nbconvert_exporter": "python",
   "pygments_lexer": "ipython3",
   "version": "3.10.8"
  }
 },
 "nbformat": 4,
 "nbformat_minor": 5
}
